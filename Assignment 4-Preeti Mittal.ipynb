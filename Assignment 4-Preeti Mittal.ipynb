{
 "cells": [
  {
   "cell_type": "markdown",
   "id": "97fa5f89",
   "metadata": {},
   "source": [
    "### 1. Write a Python function to multiply all the numbers in a list."
   ]
  },
  {
   "cell_type": "code",
   "execution_count": 96,
   "id": "5269af13",
   "metadata": {},
   "outputs": [
    {
     "name": "stdout",
     "output_type": "stream",
     "text": [
      "120\n"
     ]
    }
   ],
   "source": [
    "ls1 = [1,2,3,4,5]\n",
    "\n",
    "def mul(ls):\n",
    "    multiple = 1\n",
    "    for i in range(0,len(ls1)):\n",
    "        multiple = multiple * ls1[i]\n",
    "    \n",
    "    return multiple\n",
    "\n",
    "print(mul(ls1))"
   ]
  },
  {
   "cell_type": "markdown",
   "id": "ee6de8a9",
   "metadata": {},
   "source": [
    "### 2. Write a Python function to reverse a string\n",
    "### i) use for loop\n",
    "### ii) use while loop\n"
   ]
  },
  {
   "cell_type": "code",
   "execution_count": 98,
   "id": "e091b276",
   "metadata": {},
   "outputs": [
    {
     "name": "stdout",
     "output_type": "stream",
     "text": [
      "lattiM iteerP\n"
     ]
    }
   ],
   "source": [
    "string = 'Preeti Mittal'\n",
    "def rev_str_for_loop(string):\n",
    "    reverse_string = ''\n",
    "    for char in string:\n",
    "        reverse_string = char + reverse_string\n",
    "    return reverse_string\n",
    "print(rev_str_for_loop(string))    "
   ]
  },
  {
   "cell_type": "code",
   "execution_count": 99,
   "id": "2bd17faf",
   "metadata": {},
   "outputs": [
    {
     "name": "stdout",
     "output_type": "stream",
     "text": [
      "lattiM iteerP\n"
     ]
    }
   ],
   "source": [
    "string = 'Preeti Mittal'\n",
    "def rev_str_while_loop(string):\n",
    "    reverse_string = ''\n",
    "    index = len(string)-1\n",
    "    while(index>=0):\n",
    "        reverse_string = reverse_string+string[index]\n",
    "        index-=1\n",
    "    return reverse_string\n",
    "\n",
    "print(rev_str_while_loop(string))"
   ]
  },
  {
   "cell_type": "markdown",
   "id": "ba2adb32",
   "metadata": {},
   "source": [
    "### 3. Write a function to add and subtract two variables"
   ]
  },
  {
   "cell_type": "code",
   "execution_count": 20,
   "id": "7c8af9e9",
   "metadata": {},
   "outputs": [
    {
     "name": "stdout",
     "output_type": "stream",
     "text": [
      "Addition of 50 and 20 is:  70\n",
      "Substraction of 50 and 20 is:  30\n"
     ]
    }
   ],
   "source": [
    "a = 50\n",
    "b = 20\n",
    "\n",
    "def add_sub(x,y):\n",
    "    addition = x+y\n",
    "    substraction = x-y\n",
    "    return addition , substraction\n",
    "\n",
    "addition, substraction = add_sub(a,b)\n",
    "print(\"Addition of {} and {} is: \".format(a,b), addition )\n",
    "print(\"Substraction of {} and {} is: \".format(a,b), substraction )"
   ]
  },
  {
   "cell_type": "markdown",
   "id": "6931bf68",
   "metadata": {},
   "source": [
    "### 4. Write a function to check the number is divisible by 12"
   ]
  },
  {
   "cell_type": "code",
   "execution_count": 25,
   "id": "35128404",
   "metadata": {},
   "outputs": [
    {
     "name": "stdout",
     "output_type": "stream",
     "text": [
      "Enter the number: 48\n",
      "Number is divisible by 12\n"
     ]
    }
   ],
   "source": [
    "num = int(input(\"Enter the number: \"))\n",
    "def twelfth_divisible(num):\n",
    "    if num%12==0:\n",
    "        print(\"Number is divisible by 12\")\n",
    "    else:\n",
    "        print(\"Number is not divisible by 12\")\n",
    "\n",
    "result = twelfth_divisible(num)"
   ]
  },
  {
   "cell_type": "markdown",
   "id": "44deb4f2",
   "metadata": {},
   "source": [
    "### 5. Write a function to calculate the number of days and weeks"
   ]
  },
  {
   "cell_type": "code",
   "execution_count": 37,
   "id": "53ccbac4",
   "metadata": {},
   "outputs": [
    {
     "name": "stdout",
     "output_type": "stream",
     "text": [
      "Enter the number: 30\n",
      "No. of weeks in 30 days:  4\n",
      "No. of remaining days in 30 days:  2\n"
     ]
    }
   ],
   "source": [
    "num = int(input(\"Enter the number: \"))\n",
    "\n",
    "def weeks_num_of_days(num):\n",
    "    weeks = round(num//7,0)\n",
    "    num_of_days = round(num%7,0)\n",
    "    return weeks, num_of_days\n",
    "\n",
    "weeks, number_of_days = weeks_num_of_days(num)\n",
    "\n",
    "print(\"No. of weeks in {} days: \".format(num), weeks)\n",
    "print(\"No. of remaining days in {} days: \".format(num), number_of_days)"
   ]
  },
  {
   "cell_type": "markdown",
   "id": "9ed665d9",
   "metadata": {},
   "source": [
    "### 6.Write a Python function to Find the 5!?"
   ]
  },
  {
   "cell_type": "code",
   "execution_count": 54,
   "id": "97f04d36",
   "metadata": {},
   "outputs": [],
   "source": [
    "def factorial(num):\n",
    "    fact = 1\n",
    "    if num==0 or num==1:\n",
    "        fact = 1\n",
    "    else:\n",
    "        for i in range(1,num+1):\n",
    "            fact = fact*i\n",
    "    return fact"
   ]
  },
  {
   "cell_type": "code",
   "execution_count": 55,
   "id": "36ae2d38",
   "metadata": {},
   "outputs": [
    {
     "data": {
      "text/plain": [
       "120"
      ]
     },
     "execution_count": 55,
     "metadata": {},
     "output_type": "execute_result"
    }
   ],
   "source": [
    "factorial(5)"
   ]
  },
  {
   "cell_type": "markdown",
   "id": "915b0f57",
   "metadata": {},
   "source": [
    "### 7. Write a Python function to find the unique elements of the list = [1,2,3,3,3,3,4,5,4,2,4,2,4,4,2,4,5,4,34,654,5,7,6,5,4,3]"
   ]
  },
  {
   "cell_type": "code",
   "execution_count": 57,
   "id": "2dda55d2",
   "metadata": {},
   "outputs": [
    {
     "data": {
      "text/plain": [
       "[1, 2, 3, 4, 5, 34, 7, 6, 654]"
      ]
     },
     "execution_count": 57,
     "metadata": {},
     "output_type": "execute_result"
    }
   ],
   "source": [
    "ls2 = [1,2,3,3,3,3,4,5,4,2,4,2,4,4,2,4,5,4,34,654,5,7,6,5,4,3]\n",
    "\n",
    "def unique_elements(ls):\n",
    "    unique_list = list(set(ls))\n",
    "    return unique_list\n",
    "unique_elements(ls2)"
   ]
  },
  {
   "cell_type": "markdown",
   "id": "f8eef42b",
   "metadata": {},
   "source": [
    "### Types of arguments\n",
    "###    1. Required arguments\n",
    "###    2. Keyword arguments\n",
    "###    3. Default arguments\n",
    " \n",
    "### 1. Required arguments:\n",
    "### Write a program to calculate Simple Interest which accepts three arguments and returns the simple interest accordingly\n"
   ]
  },
  {
   "cell_type": "code",
   "execution_count": 60,
   "id": "77b84309",
   "metadata": {},
   "outputs": [
    {
     "name": "stdout",
     "output_type": "stream",
     "text": [
      "Enter the principle amount: 1000\n",
      "Enter the rate: 4.5\n",
      "Enter time: 2\n",
      "Simple Interest is:  90.0\n"
     ]
    }
   ],
   "source": [
    "def simple_interest(priciple, rate, time):\n",
    "    simple_interest = (principle*rate*time)/100\n",
    "    return simple_interest\n",
    "\n",
    "principle = float(input(\"Enter the principle amount: \"))\n",
    "rate = float(input(\"Enter the rate: \"))\n",
    "time = float(input(\"Enter time: \"))\n",
    "\n",
    "SI = simple_interest(principle,rate,time)\n",
    "print(\"Simple Interest is: \",SI)"
   ]
  },
  {
   "cell_type": "markdown",
   "id": "a761c3ec",
   "metadata": {},
   "source": [
    "### 2.Keyword arguments:\n",
    "### Write a function which will be called with the name and message as the keyword arguments. Output will be \"printing the message with 'name' and  'message'\""
   ]
  },
  {
   "cell_type": "code",
   "execution_count": 63,
   "id": "259d860c",
   "metadata": {},
   "outputs": [
    {
     "name": "stdout",
     "output_type": "stream",
     "text": [
      "Printing the message with ''Preeti' and 'Hello Guvi!'\n"
     ]
    }
   ],
   "source": [
    "def message_with_name(name, message):\n",
    "    print(\"Printing the message with ''{}' and '{}'\".format(name,message))\n",
    "\n",
    "# Example usage\n",
    "message_with_name(name=\"Preeti\", message=\"Hello Guvi!\")"
   ]
  },
  {
   "cell_type": "markdown",
   "id": "c89a1b52",
   "metadata": {},
   "source": [
    "### 3.Default Arguments:\n",
    "### Write a function which will be called with the name as keyword argument and age as the default arguments. Output will be \"My name is 'name' and 'age is 27'\""
   ]
  },
  {
   "cell_type": "code",
   "execution_count": 65,
   "id": "3399805d",
   "metadata": {},
   "outputs": [
    {
     "name": "stdout",
     "output_type": "stream",
     "text": [
      "My name is 'Preeti' and my age is 27\n"
     ]
    }
   ],
   "source": [
    "def default_arguments(name, age=27):\n",
    "    print(\"My name is '{}' and my age is {}\".format(name,age))\n",
    "\n",
    "default_arguments(name='Preeti')"
   ]
  },
  {
   "cell_type": "markdown",
   "id": "2e3b9837",
   "metadata": {},
   "source": [
    "### lambda function\n",
    "### 1. Get a number from user,  find if it is even or odd number?"
   ]
  },
  {
   "cell_type": "code",
   "execution_count": 69,
   "id": "338e3c20",
   "metadata": {},
   "outputs": [
    {
     "name": "stdout",
     "output_type": "stream",
     "text": [
      "Enter a number: 3\n"
     ]
    },
    {
     "data": {
      "text/plain": [
       "'Number is odd'"
      ]
     },
     "execution_count": 69,
     "metadata": {},
     "output_type": "execute_result"
    }
   ],
   "source": [
    "num = int(input(\"Enter a number: \"))\n",
    "\n",
    "result = lambda x: \"Number is even\" if x%2==0 else \"Number is odd\"\n",
    "\n",
    "result(num)"
   ]
  },
  {
   "cell_type": "markdown",
   "id": "eb6a290d",
   "metadata": {},
   "source": [
    "### 2. Take a input from user and  square it"
   ]
  },
  {
   "cell_type": "code",
   "execution_count": 72,
   "id": "fc210940",
   "metadata": {},
   "outputs": [
    {
     "name": "stdout",
     "output_type": "stream",
     "text": [
      "Enter a number: 10\n"
     ]
    },
    {
     "data": {
      "text/plain": [
       "100"
      ]
     },
     "execution_count": 72,
     "metadata": {},
     "output_type": "execute_result"
    }
   ],
   "source": [
    "num = int(input(\"Enter a number: \"))\n",
    "square = lambda x: x**2\n",
    "square(num)"
   ]
  },
  {
   "cell_type": "markdown",
   "id": "89e0737a",
   "metadata": {},
   "source": [
    "### 3. Write a lambda function using logical operators?\n",
    "### Hint:\n",
    "### Check x < 10\n",
    "### Output: False / True"
   ]
  },
  {
   "cell_type": "code",
   "execution_count": 74,
   "id": "e5fcb774",
   "metadata": {},
   "outputs": [
    {
     "name": "stdout",
     "output_type": "stream",
     "text": [
      "Enter a number: 9\n"
     ]
    },
    {
     "data": {
      "text/plain": [
       "False"
      ]
     },
     "execution_count": 74,
     "metadata": {},
     "output_type": "execute_result"
    }
   ],
   "source": [
    "num = int(input(\"Enter a number: \"))\n",
    "result = lambda x: x>10\n",
    "result(num)"
   ]
  },
  {
   "cell_type": "markdown",
   "id": "311c45eb",
   "metadata": {},
   "source": [
    "### 4. Take an integer input from the user,  add 5 to the number and print it back?"
   ]
  },
  {
   "cell_type": "markdown",
   "id": "100dcc40",
   "metadata": {},
   "source": [
    "\n",
    "def abc(num):\n",
    "    added_num = num+5\n",
    "    print(added_num)\n",
    "\n",
    "num = int(input(\"Enter a number: \"))\n",
    "result = abc(num)\n",
    "\n"
   ]
  },
  {
   "cell_type": "markdown",
   "id": "d448c381",
   "metadata": {},
   "source": [
    "### Map\n",
    "### 1. Add two lists using map ()\n",
    "###     lis1 = [12, 24, 36]\n",
    "###     lis2 = [41, 54, 69]"
   ]
  },
  {
   "cell_type": "code",
   "execution_count": 77,
   "id": "33a70df9",
   "metadata": {},
   "outputs": [
    {
     "name": "stdout",
     "output_type": "stream",
     "text": [
      "[53, 78, 105]\n"
     ]
    }
   ],
   "source": [
    "lis1 = [12, 24, 36]\n",
    "lis2 = [41, 54, 69]\n",
    "\n",
    "result = list(map(lambda x,y: x+y, lis1,lis2))\n",
    "print(result)"
   ]
  },
  {
   "cell_type": "markdown",
   "id": "3f0188c7",
   "metadata": {},
   "source": [
    "### 2. Use Lambda and map functions on a List, to square each element in the list = [1, 2, 3, 4, 5, 6, 7]"
   ]
  },
  {
   "cell_type": "code",
   "execution_count": 78,
   "id": "87ce022c",
   "metadata": {},
   "outputs": [
    {
     "name": "stdout",
     "output_type": "stream",
     "text": [
      "[1, 4, 9, 16, 25, 36, 49]\n"
     ]
    }
   ],
   "source": [
    "ls = [1,2,3,4,5,6,7]\n",
    "squared_result = list(map(lambda x: x**2, ls))\n",
    "print(squared_result)"
   ]
  },
  {
   "cell_type": "markdown",
   "id": "ca9b5f72",
   "metadata": {},
   "source": [
    "### 3.In the given list [1, 2, 3, 4, 5, 6, 7], find the even and odd elements in the list, use the map()function"
   ]
  },
  {
   "cell_type": "code",
   "execution_count": 79,
   "id": "9e9ac6c7",
   "metadata": {},
   "outputs": [
    {
     "name": "stdout",
     "output_type": "stream",
     "text": [
      "['odd', 'even', 'odd', 'even', 'odd', 'even', 'odd']\n"
     ]
    }
   ],
   "source": [
    "ls = [1,2,3,4,5,6,7]\n",
    "even_odd = list(map(lambda x: \"even\" if x%2==0 else \"odd\", ls))\n",
    "print(even_odd)"
   ]
  },
  {
   "cell_type": "code",
   "execution_count": 80,
   "id": "a1d03488",
   "metadata": {},
   "outputs": [
    {
     "name": "stdout",
     "output_type": "stream",
     "text": [
      "Even elements: [2, 4, 6]\n",
      "Odd elements: [1, 3, 5, 7]\n"
     ]
    }
   ],
   "source": [
    "my_list = [1, 2, 3, 4, 5, 6, 7]\n",
    "\n",
    "\n",
    "even_elements = list(map(lambda x: x if x % 2 == 0 else None, my_list))\n",
    "odd_elements = list(map(lambda x: x if x % 2 != 0 else None, my_list))\n",
    "\n",
    "even_elements = list(filter(lambda x: x is not None, even_elements))\n",
    "odd_elements = list(filter(lambda x: x is not None, odd_elements))\n",
    "\n",
    "\n",
    "print(\"Even elements:\", even_elements)\n",
    "print(\"Odd elements:\", odd_elements)"
   ]
  },
  {
   "cell_type": "markdown",
   "id": "73493966",
   "metadata": {},
   "source": [
    "### 4. In the given list [11, 12, 13, 14, 435, 6, 27], perform the Floor division using 7 on each elements on the list"
   ]
  },
  {
   "cell_type": "code",
   "execution_count": 81,
   "id": "a27975a0",
   "metadata": {},
   "outputs": [
    {
     "name": "stdout",
     "output_type": "stream",
     "text": [
      "[1, 1, 1, 2, 62, 0, 3]\n"
     ]
    }
   ],
   "source": [
    "ls = [11, 12, 13, 14, 435, 6, 27]\n",
    "floor_division = list(map(lambda x: x//7,ls))\n",
    "print(floor_division)"
   ]
  },
  {
   "cell_type": "markdown",
   "id": "61275922",
   "metadata": {},
   "source": [
    "### Filter\n",
    "### 1.Using the given list lis1 = [3,12, 24, 36,43,654,65432,2,654,455,43,543] filter the numbers in list which are not divisible by 2"
   ]
  },
  {
   "cell_type": "code",
   "execution_count": 83,
   "id": "e8715efb",
   "metadata": {},
   "outputs": [
    {
     "name": "stdout",
     "output_type": "stream",
     "text": [
      "[3, 43, 455, 43, 543]\n"
     ]
    }
   ],
   "source": [
    "lis1 = [3,12, 24, 36, 43, 654, 65432, 2, 654, 455, 43, 543]\n",
    "result = list(filter(lambda x: x%2!=0,lis1))\n",
    "print(result)"
   ]
  },
  {
   "cell_type": "markdown",
   "id": "66666fae",
   "metadata": {},
   "source": [
    "### 2.For a given list1 = [1, 2, 3, 4, 5, 6] filter only the even numbers (Use filter)."
   ]
  },
  {
   "cell_type": "code",
   "execution_count": 84,
   "id": "9c3a44eb",
   "metadata": {},
   "outputs": [
    {
     "name": "stdout",
     "output_type": "stream",
     "text": [
      "[2, 4, 6]\n"
     ]
    }
   ],
   "source": [
    "list1 = [1, 2, 3, 4, 5, 6]\n",
    "result = list(filter(lambda x: x%2==0,list1))\n",
    "print(result)\n",
    "              "
   ]
  },
  {
   "cell_type": "markdown",
   "id": "f3ec7278",
   "metadata": {},
   "source": [
    "### 3. For a given list = [2,3,5,3,6,3,7,4,6,7] filter only the even numbers using user defined function."
   ]
  },
  {
   "cell_type": "code",
   "execution_count": 88,
   "id": "6d8ebdd8",
   "metadata": {},
   "outputs": [
    {
     "name": "stdout",
     "output_type": "stream",
     "text": [
      "[2, 6, 4, 6]\n"
     ]
    }
   ],
   "source": [
    "ls = [2,3,5,3,6,3,7,4,6,7]\n",
    "\n",
    "def even_number(lis):\n",
    "    even_ls =[]\n",
    "    for i in range(0,len(lis)):\n",
    "        if lis[i]%2==0:\n",
    "            even_ls.append(lis[i])\n",
    "    return even_ls\n",
    "result = even_number(ls)\n",
    "print(result)"
   ]
  },
  {
   "cell_type": "markdown",
   "id": "59f0d8bd",
   "metadata": {},
   "source": [
    "### 4. For a given list = [1, 12, 31, 4, 15, 6, 7] filter only the odd numbers using user defined function."
   ]
  },
  {
   "cell_type": "code",
   "execution_count": 89,
   "id": "3bbc5178",
   "metadata": {},
   "outputs": [
    {
     "name": "stdout",
     "output_type": "stream",
     "text": [
      "[1, 31, 15, 7]\n"
     ]
    }
   ],
   "source": [
    "ls = [1, 12, 31, 4, 15, 6, 7]\n",
    "\n",
    "def odd_number(lis):\n",
    "    odd_ls =[]\n",
    "    for i in range(0,len(lis)):\n",
    "        if lis[i]%2!=0:\n",
    "            odd_ls.append(lis[i])\n",
    "    return odd_ls\n",
    "result = odd_number(ls)\n",
    "print(result)"
   ]
  },
  {
   "cell_type": "markdown",
   "id": "31ec49b7",
   "metadata": {},
   "source": [
    "### Reduce\n",
    "### 1.For list = [1, 2, 3, 4] multiply all the elements (use reduce function)\n"
   ]
  },
  {
   "cell_type": "code",
   "execution_count": 91,
   "id": "83147974",
   "metadata": {},
   "outputs": [],
   "source": [
    "from functools import reduce"
   ]
  },
  {
   "cell_type": "code",
   "execution_count": 92,
   "id": "4088b8b8",
   "metadata": {},
   "outputs": [
    {
     "name": "stdout",
     "output_type": "stream",
     "text": [
      "24\n"
     ]
    }
   ],
   "source": [
    "ls = [1,2,3,4]\n",
    "result = reduce(lambda x,y: x*y, ls)\n",
    "print(result)"
   ]
  },
  {
   "cell_type": "markdown",
   "id": "d49c5530",
   "metadata": {},
   "source": [
    "### 2. For list = [ 11 , 13, 15, 16, 2,43 ]  sum all the elements (use reduce function)"
   ]
  },
  {
   "cell_type": "code",
   "execution_count": 93,
   "id": "cbae54f3",
   "metadata": {},
   "outputs": [
    {
     "name": "stdout",
     "output_type": "stream",
     "text": [
      "100\n"
     ]
    }
   ],
   "source": [
    "ls = [ 11 , 13, 15, 16, 2,43 ]\n",
    "result = reduce(lambda x,y: x+y, ls)\n",
    "print(result)"
   ]
  },
  {
   "cell_type": "markdown",
   "id": "55460e3a",
   "metadata": {},
   "source": [
    "### 3. Find the maximum value in the list = [543,7,6,4567,7,78,6,6,78,765,678] (use reduce function)"
   ]
  },
  {
   "cell_type": "code",
   "execution_count": 94,
   "id": "6c434d15",
   "metadata": {},
   "outputs": [
    {
     "name": "stdout",
     "output_type": "stream",
     "text": [
      "4567\n"
     ]
    }
   ],
   "source": [
    "ls = [543,7,6,4567,7,78,6,6,78,765,678] \n",
    "result = reduce(lambda x,y: max(x,y), ls)\n",
    "print(result)"
   ]
  },
  {
   "cell_type": "markdown",
   "id": "4e829b62",
   "metadata": {},
   "source": [
    "### 4. Find the minimum value in the list= [543,7,6,4567,7,78,6,6,78,765,678] (use reduce function)\n"
   ]
  },
  {
   "cell_type": "code",
   "execution_count": 95,
   "id": "a08db829",
   "metadata": {},
   "outputs": [
    {
     "name": "stdout",
     "output_type": "stream",
     "text": [
      "6\n"
     ]
    }
   ],
   "source": [
    "ls = [543,7,6,4567,7,78,6,6,78,765,678]\n",
    "result = reduce(lambda x,y: min(x,y), ls)\n",
    "print(result)"
   ]
  },
  {
   "cell_type": "code",
   "execution_count": null,
   "id": "13f537db",
   "metadata": {},
   "outputs": [],
   "source": []
  }
 ],
 "metadata": {
  "kernelspec": {
   "display_name": "Python 3 (ipykernel)",
   "language": "python",
   "name": "python3"
  },
  "language_info": {
   "codemirror_mode": {
    "name": "ipython",
    "version": 3
   },
   "file_extension": ".py",
   "mimetype": "text/x-python",
   "name": "python",
   "nbconvert_exporter": "python",
   "pygments_lexer": "ipython3",
   "version": "3.11.5"
  }
 },
 "nbformat": 4,
 "nbformat_minor": 5
}
