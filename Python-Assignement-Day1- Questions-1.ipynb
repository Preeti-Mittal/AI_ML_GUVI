{
 "cells": [
  {
   "cell_type": "raw",
   "metadata": {
    "colab_type": "text",
    "id": "D-KgkVX3IZ-S"
   },
   "source": [
    "1.  Python Program to exchange the values of two numbers without using a temporary variable. "
   ]
  },
  {
   "cell_type": "code",
   "execution_count": 13,
   "metadata": {
    "colab": {},
    "colab_type": "code",
    "id": "yldf_YhdIZ-T"
   },
   "outputs": [
    {
     "name": "stdout",
     "output_type": "stream",
     "text": [
      "Value of variable a after exchanging : 10\n",
      "Value of variable b after exchanging : 5\n"
     ]
    }
   ],
   "source": [
    "a=5\n",
    "b=10\n",
    "\n",
    "a = a+b\n",
    "b = a-b\n",
    "a = a-b\n",
    "print(\"Value of variable a after exchanging :\", a)\n",
    "print(\"Value of variable b after exchanging :\", b)"
   ]
  },
  {
   "cell_type": "raw",
   "metadata": {
    "colab_type": "text",
    "id": "MrK3aZMGIZ-Y"
   },
   "source": [
    "2. Write a python code to replace all  \"a\"  with 2 for the given variable\n",
    "s = 'abc12321cba'"
   ]
  },
  {
   "cell_type": "code",
   "execution_count": 3,
   "metadata": {
    "colab": {},
    "colab_type": "code",
    "id": "J7rr7O5XIZ-Z"
   },
   "outputs": [
    {
     "data": {
      "text/plain": [
       "'2bc12321cb2'"
      ]
     },
     "execution_count": 3,
     "metadata": {},
     "output_type": "execute_result"
    }
   ],
   "source": [
    "s = 'abc12321cba'\n",
    "s = s.replace('a','2')\n",
    "s"
   ]
  },
  {
   "cell_type": "raw",
   "metadata": {
    "colab_type": "text",
    "id": "Zo8gMGlbIZ-g"
   },
   "source": [
    "3. Python code for to  remove first character in string?"
   ]
  },
  {
   "cell_type": "code",
   "execution_count": 15,
   "metadata": {
    "colab": {},
    "colab_type": "code",
    "id": "XTIKmVpiIZ-h"
   },
   "outputs": [
    {
     "data": {
      "text/plain": [
       "'ystring'"
      ]
     },
     "execution_count": 15,
     "metadata": {},
     "output_type": "execute_result"
    }
   ],
   "source": [
    "string = \"mystring\"\n",
    "result = string[1:]\n",
    "result\n"
   ]
  },
  {
   "cell_type": "raw",
   "metadata": {
    "colab_type": "text",
    "id": "XBhfFfEIIZ-n"
   },
   "source": [
    "4. Concatenate two strings  \n",
    "First Input : \"hello\" \n",
    "Second Input : \"guvi\"\n",
    "desired output :   \"hello guvi\""
   ]
  },
  {
   "cell_type": "code",
   "execution_count": 7,
   "metadata": {
    "colab": {},
    "colab_type": "code",
    "id": "qVhNDe9mIZ-p"
   },
   "outputs": [
    {
     "name": "stdout",
     "output_type": "stream",
     "text": [
      "hello guvi\n"
     ]
    }
   ],
   "source": [
    "First_Input = \"hello\" \n",
    "Second_Input = \"guvi\"\n",
    "\n",
    "result =   First_Input + \" \" + Second_Input\n",
    "print(result)\n"
   ]
  },
  {
   "cell_type": "raw",
   "metadata": {
    "colab_type": "text",
    "id": "W1CyejMTIZ-t"
   },
   "source": [
    "5. Repeat the string \"hello guvi\" 3 times \n",
    "desired output :  'hello guvi hello guvi hello guvi '"
   ]
  },
  {
   "cell_type": "code",
   "execution_count": 17,
   "metadata": {
    "colab": {},
    "colab_type": "code",
    "id": "6B83XYHVIZ-u"
   },
   "outputs": [
    {
     "name": "stdout",
     "output_type": "stream",
     "text": [
      "hello guvi hello guvi hello guvi\n"
     ]
    }
   ],
   "source": [
    "string = \"hello guvi\"\n",
    "output = (string + \" \") * 2 + string\n",
    "print(output)"
   ]
  },
  {
   "cell_type": "raw",
   "metadata": {
    "colab_type": "text",
    "id": "4oblWnrSIZ-y"
   },
   "source": [
    "6. Create 3 variables a1,a2,a3. Assign the same value \" 4 \" to all the variables in a single line of code."
   ]
  },
  {
   "cell_type": "code",
   "execution_count": 18,
   "metadata": {
    "colab": {},
    "colab_type": "code",
    "id": "O7nH3nd-IZ-y"
   },
   "outputs": [
    {
     "name": "stdout",
     "output_type": "stream",
     "text": [
      "a1 :  4\n",
      "a2 :  4\n",
      "a3 :  4\n"
     ]
    }
   ],
   "source": [
    "a1 = a2 =a3 = 4\n",
    "print(\"a1 : \", a1)\n",
    "print(\"a2 : \", a2)\n",
    "print(\"a3 : \", a3)"
   ]
  },
  {
   "cell_type": "raw",
   "metadata": {
    "colab_type": "text",
    "id": "fs_t4D-oIZ-2"
   },
   "source": [
    "7. Calculate BMI of a person using the height and weight.\n",
    "BMI = weight / (height **2)\n"
   ]
  },
  {
   "cell_type": "code",
   "execution_count": 21,
   "metadata": {
    "colab": {},
    "colab_type": "code",
    "id": "N_VZSoYjIZ-3"
   },
   "outputs": [
    {
     "name": "stdout",
     "output_type": "stream",
     "text": [
      "Enter weight (in kilograms): 85\n",
      "Enter height (in meters): 1.77\n",
      "BMI of a person : 27.13141179099237\n"
     ]
    }
   ],
   "source": [
    "weight = float(input(\"Enter weight (in kilograms): \"))\n",
    "height = float(input(\"Enter height (in meters): \"))\n",
    "BMI = weight/(height **2)\n",
    "print(\"BMI of a person :\" , BMI)"
   ]
  },
  {
   "cell_type": "raw",
   "metadata": {
    "colab_type": "text",
    "id": "JgXK2m28IZ-7"
   },
   "source": [
    "8.Write a python program to calculate the area of circle."
   ]
  },
  {
   "cell_type": "code",
   "execution_count": 23,
   "metadata": {
    "colab": {},
    "colab_type": "code",
    "id": "m73v7qoCIZ-8"
   },
   "outputs": [
    {
     "name": "stdout",
     "output_type": "stream",
     "text": [
      "Enter radius of a circle : 3\n",
      "Area of a circle 28.274333882308138\n"
     ]
    }
   ],
   "source": [
    "import math\n",
    "radius = float(input(\"Enter radius of a circle : \"))\n",
    "area = math.pi * (radius**2)\n",
    "print(\"Area of a circle\", area)"
   ]
  },
  {
   "cell_type": "raw",
   "metadata": {
    "colab_type": "text",
    "id": "BHXFt9VwIZ_A"
   },
   "source": [
    "9.Calculate the simple interest\n",
    "simple_interest = p * n * r /100"
   ]
  },
  {
   "cell_type": "code",
   "execution_count": 24,
   "metadata": {
    "colab": {},
    "colab_type": "code",
    "id": "7wHLjXC4IZ_B"
   },
   "outputs": [
    {
     "name": "stdout",
     "output_type": "stream",
     "text": [
      "Enter principal amount : 1000\n",
      "Enter rate : 4.5\n",
      "Enter time : 2\n",
      "Simple_Interest :  90.0\n"
     ]
    }
   ],
   "source": [
    "principal = float(input(\"Enter principal amount : \"))\n",
    "rate = float(input(\"Enter rate : \"))\n",
    "time = float(input(\"Enter time : \"))\n",
    "simple_interest = (principal * rate * time)/100\n",
    "print(\"Simple_Interest : \", simple_interest)"
   ]
  },
  {
   "cell_type": "raw",
   "metadata": {
    "colab_type": "text",
    "id": "afLADSCGIZ_G"
   },
   "source": [
    "10.Python code to calculate the square root of the given number(run time variable)"
   ]
  },
  {
   "cell_type": "code",
   "execution_count": 26,
   "metadata": {
    "colab": {},
    "colab_type": "code",
    "id": "XBTku4euIZ_H"
   },
   "outputs": [
    {
     "name": "stdout",
     "output_type": "stream",
     "text": [
      "Enter a number: 16.0\n",
      "Square root of 16.0 is 4.0\n"
     ]
    }
   ],
   "source": [
    "number = float(input(\"Enter a number: \"))\n",
    "square_root = math.sqrt(number)\n",
    "\n",
    "print(\"Square root of {} is {}\".format(number, square_root))"
   ]
  },
  {
   "cell_type": "code",
   "execution_count": null,
   "metadata": {},
   "outputs": [],
   "source": []
  }
 ],
 "metadata": {
  "colab": {
   "collapsed_sections": [],
   "name": "Python-Inclass-Day1- (Questions).ipynb",
   "provenance": []
  },
  "kernelspec": {
   "display_name": "Python 3 (ipykernel)",
   "language": "python",
   "name": "python3"
  },
  "language_info": {
   "codemirror_mode": {
    "name": "ipython",
    "version": 3
   },
   "file_extension": ".py",
   "mimetype": "text/x-python",
   "name": "python",
   "nbconvert_exporter": "python",
   "pygments_lexer": "ipython3",
   "version": "3.11.5"
  }
 },
 "nbformat": 4,
 "nbformat_minor": 1
}
