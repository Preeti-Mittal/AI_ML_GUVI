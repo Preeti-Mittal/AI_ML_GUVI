{
 "cells": [
  {
   "cell_type": "markdown",
   "id": "90b5a698",
   "metadata": {},
   "source": [
    "### Python List:\n",
    "#### 1. Create your own lists otherwise use the List1 = ['hello','GUVI','GEEK']  to perform the below Python list  Operations?\n",
    "####   A. Repetition (*)\n",
    "####    B. Concatenation (+)\n",
    "####    C. Membership\n",
    "####    D. Length\n",
    "####    E. Iteration"
   ]
  },
  {
   "cell_type": "code",
   "execution_count": 2,
   "id": "f7585ef7",
   "metadata": {},
   "outputs": [
    {
     "name": "stdout",
     "output_type": "stream",
     "text": [
      "['hello', 'GUVI', 'GEEK', 'hello', 'GUVI', 'GEEK', 'hello', 'GUVI', 'GEEK']\n"
     ]
    }
   ],
   "source": [
    "list1 = ['hello','GUVI','GEEK']\n",
    "repetition = list1 * 3\n",
    "print(repetition)"
   ]
  },
  {
   "cell_type": "code",
   "execution_count": 3,
   "id": "1c49ecb0",
   "metadata": {},
   "outputs": [
    {
     "name": "stdout",
     "output_type": "stream",
     "text": [
      "['hello', 'GUVI', 'GEEK', 'Preeti', 'Mittal']\n"
     ]
    }
   ],
   "source": [
    "list1 = ['hello','GUVI','GEEK']\n",
    "list2 = ['Preeti', 'Mittal']\n",
    "concatenation = list1 + list2\n",
    "print(concatenation)"
   ]
  },
  {
   "cell_type": "code",
   "execution_count": 4,
   "id": "c9e87a4b",
   "metadata": {},
   "outputs": [
    {
     "name": "stdout",
     "output_type": "stream",
     "text": [
      "True\n"
     ]
    }
   ],
   "source": [
    "list1 = ['hello','GUVI','GEEK']\n",
    "membership = 'GUVI' in list1\n",
    "print(membership)"
   ]
  },
  {
   "cell_type": "code",
   "execution_count": 5,
   "id": "2ef3c82f",
   "metadata": {},
   "outputs": [
    {
     "name": "stdout",
     "output_type": "stream",
     "text": [
      "3\n"
     ]
    }
   ],
   "source": [
    "list1 = ['hello','GUVI','GEEK']\n",
    "length = len(list1)\n",
    "print(length)"
   ]
  },
  {
   "cell_type": "code",
   "execution_count": 6,
   "id": "d25a8cf8",
   "metadata": {},
   "outputs": [
    {
     "name": "stdout",
     "output_type": "stream",
     "text": [
      "hello\n",
      "GUVI\n",
      "GEEK\n"
     ]
    }
   ],
   "source": [
    "list1 = ['hello','GUVI','GEEK']\n",
    "for item in list1:\n",
    "    print(item)"
   ]
  },
  {
   "cell_type": "markdown",
   "id": "a3cbca9f",
   "metadata": {},
   "source": [
    "#### 2.1. Create your own lists to perform the below Python List Built-in functions?\n",
    "#### otherwise use the\n",
    "####                    List1 = [15, 300, 2700, 821]\n",
    "####                    List2 = [12, 2]\n",
    "####                    List3 = [34, 567, 78]\n",
    "####    A.  max(list)    \n",
    "####    B.  min(list)    \n",
    "####    C.  list(seq)"
   ]
  },
  {
   "cell_type": "code",
   "execution_count": 8,
   "id": "c300683a",
   "metadata": {},
   "outputs": [
    {
     "name": "stdout",
     "output_type": "stream",
     "text": [
      "2700\n"
     ]
    }
   ],
   "source": [
    "list1 = [15, 300, 2700, 821]\n",
    "maximum = max(list1)\n",
    "print(maximum)"
   ]
  },
  {
   "cell_type": "code",
   "execution_count": 10,
   "id": "0a9f1d9a",
   "metadata": {},
   "outputs": [
    {
     "name": "stdout",
     "output_type": "stream",
     "text": [
      "15\n"
     ]
    }
   ],
   "source": [
    "list1 = [15, 300, 2700, 821]\n",
    "minimum = min(list1)\n",
    "print(minimum)"
   ]
  },
  {
   "cell_type": "code",
   "execution_count": 12,
   "id": "d1db9ccd",
   "metadata": {},
   "outputs": [
    {
     "name": "stdout",
     "output_type": "stream",
     "text": [
      "[15, 300, 2700, 821]\n"
     ]
    }
   ],
   "source": [
    "tuple_seq = (15, 300, 2700, 821)\n",
    "converting_to_list = list(tuple_seq)\n",
    "print(converting_to_list)"
   ]
  },
  {
   "cell_type": "markdown",
   "id": "d7f99294",
   "metadata": {},
   "source": [
    "#### 3. Create your own lists to perform the below Python List built-in methods\n",
    "####    A.  list.append()\n",
    "####    B.  list.clear()   \n",
    "####    C.  List.copy()          \n",
    "####    D.  list.count()         \n",
    "####    E.  list.extend()    \n",
    "####    F.  list.index()\n",
    "####    G.  list.insert()  \n",
    "####    H.  list.pop() \n",
    "####    I.  list.remove()    \n",
    "####    J.  list.reverse()         \n",
    "####    K.  list.sort()  "
   ]
  },
  {
   "cell_type": "code",
   "execution_count": 15,
   "id": "f75d9e4a",
   "metadata": {},
   "outputs": [
    {
     "name": "stdout",
     "output_type": "stream",
     "text": [
      "['hello', 'GUVI', 'GEEK', 'Preeti']\n"
     ]
    }
   ],
   "source": [
    "list1 = ['hello','GUVI','GEEK']\n",
    "string = 'Preeti'\n",
    "list1.append(string)\n",
    "print(list1)"
   ]
  },
  {
   "cell_type": "code",
   "execution_count": 17,
   "id": "529c6b77",
   "metadata": {},
   "outputs": [
    {
     "name": "stdout",
     "output_type": "stream",
     "text": [
      "[]\n"
     ]
    }
   ],
   "source": [
    "list1 = ['hello','GUVI','GEEK']\n",
    "list1.clear()\n",
    "print(list1)"
   ]
  },
  {
   "cell_type": "code",
   "execution_count": 18,
   "id": "9f87804c",
   "metadata": {},
   "outputs": [
    {
     "data": {
      "text/plain": [
       "['hello', 'GUVI', 'GEEK']"
      ]
     },
     "execution_count": 18,
     "metadata": {},
     "output_type": "execute_result"
    }
   ],
   "source": [
    "list1 = ['hello','GUVI','GEEK']\n",
    "list2 = list1.copy()\n",
    "list2"
   ]
  },
  {
   "cell_type": "code",
   "execution_count": 21,
   "id": "b7404554",
   "metadata": {},
   "outputs": [
    {
     "data": {
      "text/plain": [
       "2"
      ]
     },
     "execution_count": 21,
     "metadata": {},
     "output_type": "execute_result"
    }
   ],
   "source": [
    "list1 = ['hello','GUVI','GEEK', 'hello']\n",
    "list1.count('hello')"
   ]
  },
  {
   "cell_type": "code",
   "execution_count": 25,
   "id": "02bac188",
   "metadata": {},
   "outputs": [
    {
     "name": "stdout",
     "output_type": "stream",
     "text": [
      "['hello', 'GUVI', 'GEEK', 'Python', 'Practice']\n"
     ]
    }
   ],
   "source": [
    "list1 = ['hello','GUVI','GEEK']\n",
    "list1.extend(['Python', 'Practice'])\n",
    "print(list1)"
   ]
  },
  {
   "cell_type": "code",
   "execution_count": 28,
   "id": "7c0ccbd7",
   "metadata": {},
   "outputs": [
    {
     "data": {
      "text/plain": [
       "1"
      ]
     },
     "execution_count": 28,
     "metadata": {},
     "output_type": "execute_result"
    }
   ],
   "source": [
    "list1 = ['hello','GUVI','GEEK']\n",
    "list1.index('GUVI')"
   ]
  },
  {
   "cell_type": "code",
   "execution_count": 44,
   "id": "7259cfb9",
   "metadata": {},
   "outputs": [
    {
     "data": {
      "text/plain": [
       "['hello', 'Preeti', 'GUVI', 'GEEK']"
      ]
     },
     "execution_count": 44,
     "metadata": {},
     "output_type": "execute_result"
    }
   ],
   "source": [
    "list1 = ['hello','GUVI','GEEK']\n",
    "list1.insert(1, 'Preeti')\n",
    "list1"
   ]
  },
  {
   "cell_type": "code",
   "execution_count": 35,
   "id": "85b1395f",
   "metadata": {},
   "outputs": [
    {
     "name": "stdout",
     "output_type": "stream",
     "text": [
      "['hello', 'GUVI']\n"
     ]
    }
   ],
   "source": [
    "list1 = ['hello','GUVI','GEEK']\n",
    "list1.pop(2)\n",
    "print(list1)"
   ]
  },
  {
   "cell_type": "code",
   "execution_count": 39,
   "id": "f81366d5",
   "metadata": {},
   "outputs": [
    {
     "name": "stdout",
     "output_type": "stream",
     "text": [
      "['GUVI', 'GEEK']\n"
     ]
    }
   ],
   "source": [
    "list1 = ['hello','GUVI','GEEK']\n",
    "list1.remove('hello')\n",
    "print(list1)"
   ]
  },
  {
   "cell_type": "code",
   "execution_count": 41,
   "id": "005add16",
   "metadata": {},
   "outputs": [
    {
     "data": {
      "text/plain": [
       "['GEEK', 'GUVI', 'hello']"
      ]
     },
     "execution_count": 41,
     "metadata": {},
     "output_type": "execute_result"
    }
   ],
   "source": [
    "list1 = ['hello','GUVI','GEEK']\n",
    "list1.reverse()\n",
    "list1"
   ]
  },
  {
   "cell_type": "code",
   "execution_count": 42,
   "id": "0e22b394",
   "metadata": {},
   "outputs": [
    {
     "data": {
      "text/plain": [
       "['GEEK', 'GUVI', 'hello']"
      ]
     },
     "execution_count": 42,
     "metadata": {},
     "output_type": "execute_result"
    }
   ],
   "source": [
    "list1 = ['hello','GUVI','GEEK']\n",
    "list1.sort()\n",
    "list1"
   ]
  },
  {
   "cell_type": "markdown",
   "id": "0e488a2f",
   "metadata": {},
   "source": [
    "### Python Tuple\n",
    "#### Create your own Tuple to perform the below Python tuple Operations ?\n",
    "#### otherwise use the below\n",
    "####               Tuple1 = ('a','b','c','d')\n",
    "####               Tuple2 = ('e','f','g','h')\n",
    "#### 1. Tuple Operations\n",
    "####   A. Repetition (*)\n",
    "####   B. Concatenation (+)\n",
    "####   C. Membership\n",
    "####   D. Length\n",
    "####   E. Iteration"
   ]
  },
  {
   "cell_type": "code",
   "execution_count": 46,
   "id": "7bee2066",
   "metadata": {},
   "outputs": [
    {
     "name": "stdout",
     "output_type": "stream",
     "text": [
      "('a', 'b', 'c', 'd', 'a', 'b', 'c', 'd', 'a', 'b', 'c', 'd')\n"
     ]
    }
   ],
   "source": [
    "tuple1 = ('a','b','c','d')\n",
    "tuple2 = ('e','f','g','h')\n",
    "repetition = tuple1*3\n",
    "print(repetition)"
   ]
  },
  {
   "cell_type": "code",
   "execution_count": 47,
   "id": "674264c5",
   "metadata": {},
   "outputs": [
    {
     "name": "stdout",
     "output_type": "stream",
     "text": [
      "('a', 'b', 'c', 'd', 'e', 'f', 'g', 'h')\n"
     ]
    }
   ],
   "source": [
    "tuple1 = ('a','b','c','d')\n",
    "tuple2 = ('e','f','g','h')\n",
    "concatenation = tuple1+tuple2\n",
    "print(concatenation)"
   ]
  },
  {
   "cell_type": "code",
   "execution_count": 48,
   "id": "e1745769",
   "metadata": {},
   "outputs": [
    {
     "name": "stdout",
     "output_type": "stream",
     "text": [
      "True\n"
     ]
    }
   ],
   "source": [
    "tuple1 = ('a','b','c','d')\n",
    "membership = 'c' in tuple1\n",
    "print(membership)"
   ]
  },
  {
   "cell_type": "code",
   "execution_count": 49,
   "id": "02f96e45",
   "metadata": {},
   "outputs": [
    {
     "name": "stdout",
     "output_type": "stream",
     "text": [
      "4\n"
     ]
    }
   ],
   "source": [
    "tuple1 = ('a','b','c','d')\n",
    "length = len(tuple1)\n",
    "print(length)"
   ]
  },
  {
   "cell_type": "code",
   "execution_count": 50,
   "id": "1dc97b25",
   "metadata": {
    "scrolled": true
   },
   "outputs": [
    {
     "name": "stdout",
     "output_type": "stream",
     "text": [
      "a\n",
      "b\n",
      "c\n",
      "d\n"
     ]
    }
   ],
   "source": [
    "tuple1 = ('a','b','c','d')\n",
    "for item in tuple1:\n",
    "    print(item)"
   ]
  },
  {
   "cell_type": "markdown",
   "id": "439f0aca",
   "metadata": {},
   "source": [
    "#### 2.Create your own Tuple to perform the below Python tuple inbuilt functions ?\n",
    "#### otherwise use the below\n",
    "####            Tuple1 = (1,4,2,4,5,6,3,5,4,6,77,8,7,7,876,89,8765,4,5,1,876,9,3456,4234)\n",
    "       \n",
    "####         A. max(Tuple)   \n",
    "####         B. min(Tuple)     \n",
    "####         C. Tuple(seq)"
   ]
  },
  {
   "cell_type": "code",
   "execution_count": 51,
   "id": "a8ea3432",
   "metadata": {},
   "outputs": [
    {
     "name": "stdout",
     "output_type": "stream",
     "text": [
      "8765\n"
     ]
    }
   ],
   "source": [
    "tuple1 = (1,4,2,4,5,6,3,5,4,6,77,8,7,7,876,89,8765,4,5,1,876,9,3456,4234)\n",
    "maximum = max(tuple1)\n",
    "print(maximum)"
   ]
  },
  {
   "cell_type": "code",
   "execution_count": 52,
   "id": "c36d6445",
   "metadata": {},
   "outputs": [
    {
     "name": "stdout",
     "output_type": "stream",
     "text": [
      "1\n"
     ]
    }
   ],
   "source": [
    "tuple1 = (1,4,2,4,5,6,3,5,4,6,77,8,7,7,876,89,8765,4,5,1,876,9,3456,4234)\n",
    "minimum = min(tuple1)\n",
    "print(minimum)"
   ]
  },
  {
   "cell_type": "code",
   "execution_count": 53,
   "id": "6286b19a",
   "metadata": {},
   "outputs": [
    {
     "name": "stdout",
     "output_type": "stream",
     "text": [
      "('P', 'r', 'e', 'e', 't', 'i')\n"
     ]
    }
   ],
   "source": [
    "seq = 'Preeti'\n",
    "convert_to_tuple = tuple(seq)\n",
    "print(convert_to_tuple)"
   ]
  },
  {
   "cell_type": "markdown",
   "id": "286822ec",
   "metadata": {},
   "source": [
    "# Python Set\n",
    "#### Create your own Set to operate the below Python Set Operations ?\n",
    "#### otherwise use the below set:\n",
    "####        Set1 = {1,4,2,4,5,6,3,5,4,6,77,8,7,7,876}\n",
    "####        Set2 = {3,432,5,6,4,6,7,6,5,6,54,567,5}\n",
    "   \n",
    "#### 1. Set Operations\n",
    "####     A. Union\n",
    "####     B. Intersection\n",
    "####     C. Difference\n",
    "####     D. Symmetric difference"
   ]
  },
  {
   "cell_type": "code",
   "execution_count": 54,
   "id": "8aad7f9d",
   "metadata": {},
   "outputs": [
    {
     "name": "stdout",
     "output_type": "stream",
     "text": [
      "{1, 2, 3, 4, 5, 6, 7, 8, 876, 77, 432, 54, 567}\n"
     ]
    }
   ],
   "source": [
    "set1 = {1,4,2,4,5,6,3,5,4,6,77,8,7,7,876}\n",
    "set2 = {3,432,5,6,4,6,7,6,5,6,54,567,5}\n",
    "union = set1.union(set2)\n",
    "print(union)"
   ]
  },
  {
   "cell_type": "code",
   "execution_count": 55,
   "id": "fa127570",
   "metadata": {},
   "outputs": [
    {
     "name": "stdout",
     "output_type": "stream",
     "text": [
      "{3, 4, 5, 6, 7}\n"
     ]
    }
   ],
   "source": [
    "set1 = {1,4,2,4,5,6,3,5,4,6,77,8,7,7,876}\n",
    "set2 = {3,432,5,6,4,6,7,6,5,6,54,567,5}\n",
    "intersection = set1.intersection(set2)\n",
    "print(intersection)"
   ]
  },
  {
   "cell_type": "code",
   "execution_count": 56,
   "id": "827f5623",
   "metadata": {},
   "outputs": [
    {
     "name": "stdout",
     "output_type": "stream",
     "text": [
      "{1, 2, 8, 876, 77}\n"
     ]
    }
   ],
   "source": [
    "set1 = {1,4,2,4,5,6,3,5,4,6,77,8,7,7,876}\n",
    "set2 = {3,432,5,6,4,6,7,6,5,6,54,567,5}\n",
    "difference = set1.difference(set2)\n",
    "print(difference)"
   ]
  },
  {
   "cell_type": "code",
   "execution_count": 57,
   "id": "cbe900fa",
   "metadata": {},
   "outputs": [
    {
     "name": "stdout",
     "output_type": "stream",
     "text": [
      "{1, 2, 8, 876, 77, 432, 54, 567}\n"
     ]
    }
   ],
   "source": [
    "set1 = {1,4,2,4,5,6,3,5,4,6,77,8,7,7,876}\n",
    "set2 = {3,432,5,6,4,6,7,6,5,6,54,567,5}\n",
    "symmetric_difference = set1.symmetric_difference(set2)\n",
    "print(symmetric_difference)"
   ]
  },
  {
   "cell_type": "markdown",
   "id": "11d69803",
   "metadata": {},
   "source": [
    "#### Python Dictionary\n",
    "#### Create your own Dictionary to perform the below Python Built-in Dictionary functions\n",
    "#### otherwise use the below Dictionary:\n",
    "####                            dict = {'Name': 'Student', 'Age': 27};\n",
    "####    A.  len(dict)    \n",
    "####    B.  str(dict)      \n",
    "####    C.  type(variable)"
   ]
  },
  {
   "cell_type": "code",
   "execution_count": 59,
   "id": "ba3e2223",
   "metadata": {},
   "outputs": [
    {
     "name": "stdout",
     "output_type": "stream",
     "text": [
      "2\n"
     ]
    }
   ],
   "source": [
    "dict1 = {'Name': 'Student', 'Age': 27}\n",
    "length = len(dict1)\n",
    "print(length)"
   ]
  },
  {
   "cell_type": "code",
   "execution_count": 60,
   "id": "7007c155",
   "metadata": {},
   "outputs": [
    {
     "name": "stdout",
     "output_type": "stream",
     "text": [
      "{'Name': 'Student', 'Age': 27}\n"
     ]
    }
   ],
   "source": [
    "dict1 = {'Name': 'Student', 'Age': 27}\n",
    "convert_to_str = str(dict1)\n",
    "print(convert_to_str)"
   ]
  },
  {
   "cell_type": "code",
   "execution_count": 64,
   "id": "330899c7",
   "metadata": {},
   "outputs": [
    {
     "name": "stdout",
     "output_type": "stream",
     "text": [
      "<class 'dict'>\n",
      "<class 'str'>\n"
     ]
    }
   ],
   "source": [
    "print(type(dict1))\n",
    "print(type(convert_to_str))\n",
    "\n"
   ]
  },
  {
   "cell_type": "code",
   "execution_count": 65,
   "id": "f2f412cb",
   "metadata": {},
   "outputs": [
    {
     "name": "stdout",
     "output_type": "stream",
     "text": [
      "<class 'dict'>\n"
     ]
    }
   ],
   "source": [
    "dict1 = {'Name': 'Student', 'Age': 27}\n",
    "type_variable = type(dict1)\n",
    "print(type_variable)"
   ]
  },
  {
   "cell_type": "markdown",
   "id": "a0f54a19",
   "metadata": {},
   "source": [
    "#### 2.Create your own Dictionary to perform the below Python Built-in Dictionary methods\n",
    "#### otherwise use the below Dictionary:\n",
    "####                            dictionaries = {0:\" Data\",1: \"GUVI\", 2: \"GEEK\",3:\"Python\",4:\"Happy\"}\n",
    "####    A.  dic.clear()\n",
    "####    B.  dict.copy()  \n",
    "####    C.  dict.fromkeys()\n",
    "####    D.  dict.get(key[, value])    \n",
    "####    E.  dict.items()   \n",
    "####    F.  dict.keys()   \n",
    "####    G.  dict.setdefault()  \n",
    "####    H.  dict.update()  \n",
    "####    I.  dict.values() "
   ]
  },
  {
   "cell_type": "code",
   "execution_count": 75,
   "id": "32c0a314",
   "metadata": {},
   "outputs": [
    {
     "name": "stdout",
     "output_type": "stream",
     "text": [
      "{}\n"
     ]
    }
   ],
   "source": [
    "dic = {0:\" Data\",1: \"GUVI\", 2: \"GEEK\",3:\"Python\",4:\"Happy\"}\n",
    "dic.clear()\n",
    "print(dic)"
   ]
  },
  {
   "cell_type": "code",
   "execution_count": 68,
   "id": "a8adfb3d",
   "metadata": {},
   "outputs": [
    {
     "name": "stdout",
     "output_type": "stream",
     "text": [
      "{0: ' Data', 1: 'GUVI', 2: 'GEEK', 3: 'Python', 4: 'Happy'}\n"
     ]
    }
   ],
   "source": [
    "dic = {0:\" Data\",1: \"GUVI\", 2: \"GEEK\",3:\"Python\",4:\"Happy\"}\n",
    "dic2 = dic.copy()\n",
    "print(dic2)"
   ]
  },
  {
   "cell_type": "code",
   "execution_count": 74,
   "id": "55c61a25",
   "metadata": {},
   "outputs": [
    {
     "name": "stdout",
     "output_type": "stream",
     "text": [
      "Fromkeys dictionary: {1: 'default', 2: 'default', 3: 'default'}\n"
     ]
    }
   ],
   "source": [
    "keys = [1, 2, 3]\n",
    "values = 'default'\n",
    "fromkeys_dict = dict.fromkeys(keys, values)\n",
    "print(\"Fromkeys dictionary:\", fromkeys_dict)"
   ]
  },
  {
   "cell_type": "code",
   "execution_count": 83,
   "id": "b63738bf",
   "metadata": {},
   "outputs": [
    {
     "data": {
      "text/plain": [
       "'Not found'"
      ]
     },
     "execution_count": 83,
     "metadata": {},
     "output_type": "execute_result"
    }
   ],
   "source": [
    "dic = {0:\" Data\",1: \"GUVI\", 2: \"GEEK\",3:\"Python\",4:\"Happy\"}\n",
    "dic.get(5, \"Not found\")\n"
   ]
  },
  {
   "cell_type": "code",
   "execution_count": 84,
   "id": "86e62f34",
   "metadata": {},
   "outputs": [
    {
     "data": {
      "text/plain": [
       "dict_items([(0, ' Data'), (1, 'GUVI'), (2, 'GEEK'), (3, 'Python'), (4, 'Happy')])"
      ]
     },
     "execution_count": 84,
     "metadata": {},
     "output_type": "execute_result"
    }
   ],
   "source": [
    "dic = {0:\" Data\",1: \"GUVI\", 2: \"GEEK\",3:\"Python\",4:\"Happy\"}\n",
    "dic.items()\n"
   ]
  },
  {
   "cell_type": "code",
   "execution_count": 85,
   "id": "9f9b26b5",
   "metadata": {},
   "outputs": [
    {
     "data": {
      "text/plain": [
       "dict_keys([0, 1, 2, 3, 4])"
      ]
     },
     "execution_count": 85,
     "metadata": {},
     "output_type": "execute_result"
    }
   ],
   "source": [
    "dic = {0:\" Data\",1: \"GUVI\", 2: \"GEEK\",3:\"Python\",4:\"Happy\"}\n",
    "dic.keys()"
   ]
  },
  {
   "cell_type": "code",
   "execution_count": 90,
   "id": "ffcc7f55",
   "metadata": {},
   "outputs": [
    {
     "data": {
      "text/plain": [
       "'Happy'"
      ]
     },
     "execution_count": 90,
     "metadata": {},
     "output_type": "execute_result"
    }
   ],
   "source": [
    "dic = {0:\" Data\",1: \"GUVI\", 2: \"GEEK\",3:\"Python\",4:\"Happy\"}\n",
    "dic.setdefault(4,'Glad')\n"
   ]
  },
  {
   "cell_type": "code",
   "execution_count": 92,
   "id": "687a5e6c",
   "metadata": {},
   "outputs": [
    {
     "name": "stdout",
     "output_type": "stream",
     "text": [
      "{0: ' Data', 1: 'GUVI', 2: 'GEEK', 3: 'Python', 4: 'Joyful', 5: 'Learning'}\n"
     ]
    }
   ],
   "source": [
    "dic = {0:\" Data\",1: \"GUVI\", 2: \"GEEK\",3:\"Python\",4:\"Happy\"}\n",
    "update_dict = {4: \"Joyful\", 5: \"Learning\"}\n",
    "dic.update(update_dict)\n",
    "print(dic)"
   ]
  },
  {
   "cell_type": "code",
   "execution_count": 93,
   "id": "e2cd6469",
   "metadata": {},
   "outputs": [
    {
     "data": {
      "text/plain": [
       "dict_values([' Data', 'GUVI', 'GEEK', 'Python', 'Happy'])"
      ]
     },
     "execution_count": 93,
     "metadata": {},
     "output_type": "execute_result"
    }
   ],
   "source": [
    "dic = {0:\" Data\",1: \"GUVI\", 2: \"GEEK\",3:\"Python\",4:\"Happy\"}\n",
    "dic.values()"
   ]
  },
  {
   "cell_type": "markdown",
   "id": "09abe660",
   "metadata": {},
   "source": [
    "#### Conditional Statements\n",
    "####    1. IF\n",
    "####    2. IF-ELSE\n",
    "####    3. If...Elif...Else\n",
    " \n",
    "#### 1. Write if statement 13 is greater than 25?"
   ]
  },
  {
   "cell_type": "code",
   "execution_count": 94,
   "id": "2e7f1e10",
   "metadata": {},
   "outputs": [
    {
     "name": "stdout",
     "output_type": "stream",
     "text": [
      "13 is not greater than 25.\n"
     ]
    }
   ],
   "source": [
    "number1 = 13\n",
    "number2 = 25\n",
    "\n",
    "if number1 > number2:\n",
    "    print(\"13 is greater than 25.\")\n",
    "else:\n",
    "    print(\"13 is not greater than 25.\")"
   ]
  },
  {
   "cell_type": "markdown",
   "id": "ce7b9e1f",
   "metadata": {},
   "source": [
    "#### 2.  Write a if else  statement to find if the number is divisible by 25?"
   ]
  },
  {
   "cell_type": "code",
   "execution_count": 95,
   "id": "e9f1b751",
   "metadata": {},
   "outputs": [
    {
     "name": "stdout",
     "output_type": "stream",
     "text": [
      "Enter a number: 100\n",
      "Number is divisible by 25\n"
     ]
    }
   ],
   "source": [
    "num = int(input(\"Enter a number: \"))\n",
    "if num%25==0:\n",
    "    print(\"Number is divisible by 25\")\n",
    "else:\n",
    "    print(\"Number is not divisible by 25\")\n"
   ]
  },
  {
   "cell_type": "markdown",
   "id": "f20a811b",
   "metadata": {},
   "source": [
    "#### 3.Using the three variables 'a = 154; b = 2451; c = 6054',\n",
    "#### Write a If...Elif...Else statement to find the greatest number"
   ]
  },
  {
   "cell_type": "code",
   "execution_count": 103,
   "id": "17348e98",
   "metadata": {},
   "outputs": [
    {
     "name": "stdout",
     "output_type": "stream",
     "text": [
      "c is greatest\n"
     ]
    }
   ],
   "source": [
    "a = 154\n",
    "b = 2451\n",
    "c = 6054\n",
    "\n",
    "if a>b and a>c:\n",
    "    print(\"a is greatest\")\n",
    "elif b>a and b>c:\n",
    "    print(\"b is greatest\")\n",
    "else:\n",
    "    print(\"c is greatest\")"
   ]
  },
  {
   "cell_type": "code",
   "execution_count": null,
   "id": "4a6616e7",
   "metadata": {},
   "outputs": [],
   "source": []
  }
 ],
 "metadata": {
  "kernelspec": {
   "display_name": "Python 3 (ipykernel)",
   "language": "python",
   "name": "python3"
  },
  "language_info": {
   "codemirror_mode": {
    "name": "ipython",
    "version": 3
   },
   "file_extension": ".py",
   "mimetype": "text/x-python",
   "name": "python",
   "nbconvert_exporter": "python",
   "pygments_lexer": "ipython3",
   "version": "3.11.5"
  }
 },
 "nbformat": 4,
 "nbformat_minor": 5
}
