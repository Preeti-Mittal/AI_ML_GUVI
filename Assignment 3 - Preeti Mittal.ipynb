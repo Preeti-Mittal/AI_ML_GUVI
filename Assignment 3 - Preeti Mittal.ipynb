{
 "cells": [
  {
   "cell_type": "markdown",
   "id": "201531fd",
   "metadata": {},
   "source": [
    "## IF Statement\n",
    "Problems:\n",
    "Write a program to check whether x is less than y\n",
    "where, x = 20 and y = 30\n",
    "Assigning x equal to 20 Assigning y equal to 30 If condition x is less then y then go to step 4 print x is less then y"
   ]
  },
  {
   "cell_type": "code",
   "execution_count": 1,
   "id": "098c5631",
   "metadata": {},
   "outputs": [
    {
     "name": "stdout",
     "output_type": "stream",
     "text": [
      "x is less than y\n"
     ]
    }
   ],
   "source": [
    "x = 20\n",
    "y = 30\n",
    "\n",
    "if x<y:\n",
    "    print(\"x is less than y\")"
   ]
  },
  {
   "cell_type": "markdown",
   "id": "16ea3282",
   "metadata": {},
   "source": [
    "###  Write a program to check whether the total score (theory --> 100 + practical --> 100) is less than or equal to 200. If it goes beyond 200, print an error or a warning message."
   ]
  },
  {
   "cell_type": "code",
   "execution_count": 8,
   "id": "8422c371",
   "metadata": {},
   "outputs": [
    {
     "name": "stdout",
     "output_type": "stream",
     "text": [
      "Invalid Score\n"
     ]
    }
   ],
   "source": [
    "theory = 140\n",
    "practical = 145\n",
    "\n",
    "total_score = theory+practical\n",
    "if total_score>200:\n",
    "    print(\"Invalid Score\")\n",
    "else:\n",
    "    print(\"Total Score: \",total_score)"
   ]
  },
  {
   "cell_type": "markdown",
   "id": "b062a5fd",
   "metadata": {},
   "source": [
    "### Write a python program to to check whether the student has passed the subject based on string input yes/no\n"
   ]
  },
  {
   "cell_type": "code",
   "execution_count": 10,
   "id": "e6076a66",
   "metadata": {},
   "outputs": [
    {
     "name": "stdout",
     "output_type": "stream",
     "text": [
      "Enter the subject result in yes/no: yes\n",
      "Cleared the test\n"
     ]
    }
   ],
   "source": [
    "Subject = input(\"Enter the subject result in yes/no: \")\n",
    "if Subject == 'yes':\n",
    "    print(\"Cleared the test\")\n",
    "else:\n",
    "    print(\"Failed the test\")"
   ]
  },
  {
   "cell_type": "markdown",
   "id": "50456ae2",
   "metadata": {},
   "source": [
    "### Write a program to get the password from user, check whether the password is 'great'. Through a reply to the user accordingly."
   ]
  },
  {
   "cell_type": "code",
   "execution_count": 13,
   "id": "66bcc146",
   "metadata": {},
   "outputs": [
    {
     "name": "stdout",
     "output_type": "stream",
     "text": [
      "Enter the password: great\n",
      "Password Accepted\n"
     ]
    }
   ],
   "source": [
    "Password = input(\"Enter the password: \")\n",
    "if Password == 'great':\n",
    "    print(\"Password Accepted\")\n",
    "else:\n",
    "    print(\"Wrong Password\")"
   ]
  },
  {
   "cell_type": "markdown",
   "id": "879597ba",
   "metadata": {},
   "source": [
    "### Nested if Statement\n",
    "### Based on the users age, divide them in to three groups Group 1 : Age <=18 , Minors who are not eligible to work Group 2 : 18<Age<60 , ELigible to work Group 3 : >=60, Too old to work as per govt. regulations."
   ]
  },
  {
   "cell_type": "code",
   "execution_count": 4,
   "id": "8979ae7a",
   "metadata": {},
   "outputs": [
    {
     "name": "stdout",
     "output_type": "stream",
     "text": [
      "Enter your age: 77\n",
      "You are too old to work as per govt. regulations\n"
     ]
    }
   ],
   "source": [
    "age = int(input(\"Enter your age: \"))\n",
    "\n",
    "if age<=18:\n",
    "    print(\"You are a minor and not eligible to work\")\n",
    "elif age>18 and age<60:\n",
    "    print(\"You are eligible to work\")\n",
    "else:\n",
    "    print(\"You are too old to work as per govt. regulations\")         "
   ]
  },
  {
   "cell_type": "markdown",
   "id": "0404ba6c",
   "metadata": {},
   "source": [
    "### While Loop\n",
    "### Take an integer as input from the user and print all the numbers from 0 to that number in reverse order."
   ]
  },
  {
   "cell_type": "code",
   "execution_count": 14,
   "id": "ca8af1f4",
   "metadata": {},
   "outputs": [
    {
     "name": "stdout",
     "output_type": "stream",
     "text": [
      "Enter the number: 3\n",
      "3\n",
      "2\n",
      "1\n"
     ]
    }
   ],
   "source": [
    "n = int(input(\"Enter the number: \"))\n",
    "while n>0:\n",
    "    print(n)\n",
    "    n-=1"
   ]
  },
  {
   "cell_type": "markdown",
   "id": "76e194e5",
   "metadata": {},
   "source": [
    "### Write a python code to find the squares of all the numbers based on an input."
   ]
  },
  {
   "cell_type": "code",
   "execution_count": 30,
   "id": "defa3ec4",
   "metadata": {},
   "outputs": [
    {
     "name": "stdout",
     "output_type": "stream",
     "text": [
      "Enter a number: 10\n",
      "1\n",
      "4\n",
      "9\n",
      "16\n",
      "25\n",
      "36\n",
      "49\n",
      "64\n",
      "81\n",
      "100\n"
     ]
    }
   ],
   "source": [
    "number = int(input(\"Enter a number: \"))\n",
    "i=1\n",
    "while i<=number:\n",
    "    square = i ** 2\n",
    "    print(square)\n",
    "    i+=1"
   ]
  },
  {
   "cell_type": "markdown",
   "id": "68abf784",
   "metadata": {},
   "source": [
    "### For Loop\n",
    "### Write a pseudocode to print the multiplication table of a given number.\n",
    "### Example : if the user input is 3, the output should be like below :\n",
    "### 3 X 1 = 3 3 X 2 = 6 ... 3 X 10 =30"
   ]
  },
  {
   "cell_type": "code",
   "execution_count": 32,
   "id": "18831062",
   "metadata": {},
   "outputs": [
    {
     "name": "stdout",
     "output_type": "stream",
     "text": [
      "Enter the number: 3\n",
      "3 * 1 = 3\n",
      "3 * 2 = 6\n",
      "3 * 3 = 9\n",
      "3 * 4 = 12\n",
      "3 * 5 = 15\n",
      "3 * 6 = 18\n",
      "3 * 7 = 21\n",
      "3 * 8 = 24\n",
      "3 * 9 = 27\n",
      "3 * 10 = 30\n"
     ]
    }
   ],
   "source": [
    "number = int(input(\"Enter the number: \"))\n",
    "\n",
    "for i in range(1,11):\n",
    "    multiple = i*number\n",
    "    print(\"{} * {} = {}\".format(number, i, multiple))\n",
    "    \n"
   ]
  },
  {
   "cell_type": "markdown",
   "id": "94741db3",
   "metadata": {},
   "source": [
    "### Write a python code to print squares of all numbers present in the list = [1, 22, 14, 64, 31, 120]"
   ]
  },
  {
   "cell_type": "code",
   "execution_count": 37,
   "id": "0cd7d3dc",
   "metadata": {},
   "outputs": [
    {
     "name": "stdout",
     "output_type": "stream",
     "text": [
      "1\n",
      "484\n",
      "196\n",
      "4096\n",
      "961\n",
      "14400\n"
     ]
    }
   ],
   "source": [
    "my_list = [1, 22, 14, 64, 31, 120]\n",
    "\n",
    "for i in range(0,len(my_list)):\n",
    "    square = my_list[i]**2\n",
    "    print(square)\n"
   ]
  },
  {
   "cell_type": "markdown",
   "id": "a0a69587",
   "metadata": {},
   "source": [
    "### Additional Practice Programs\n",
    "### Write a python program that takes a list ['red','black','blue'] and prints each element in the list using whle loop"
   ]
  },
  {
   "cell_type": "code",
   "execution_count": 49,
   "id": "68671940",
   "metadata": {},
   "outputs": [
    {
     "name": "stdout",
     "output_type": "stream",
     "text": [
      "red\n",
      "black\n",
      "blue\n"
     ]
    }
   ],
   "source": [
    "new_list = ['red', 'black', 'blue']\n",
    "i=0\n",
    "while i<len(new_list):\n",
    "    print(new_list[i])\n",
    "    i+=1\n"
   ]
  },
  {
   "cell_type": "markdown",
   "id": "65470491",
   "metadata": {},
   "source": [
    "### Write a same program as above using a For loop?"
   ]
  },
  {
   "cell_type": "code",
   "execution_count": 50,
   "id": "a57325d7",
   "metadata": {},
   "outputs": [
    {
     "name": "stdout",
     "output_type": "stream",
     "text": [
      "red\n",
      "black\n",
      "blue\n"
     ]
    }
   ],
   "source": [
    "new_list = ['red', 'black', 'blue']\n",
    "for i in range(0,len(new_list)):\n",
    "    print(new_list[i])"
   ]
  },
  {
   "cell_type": "markdown",
   "id": "c7eda92c",
   "metadata": {},
   "source": [
    "### Write a Python Program to find the LCM of two numbers?"
   ]
  },
  {
   "cell_type": "code",
   "execution_count": 57,
   "id": "150ecffe",
   "metadata": {},
   "outputs": [
    {
     "name": "stdout",
     "output_type": "stream",
     "text": [
      "The L.C.M. of 54 and 24 is 216\n"
     ]
    }
   ],
   "source": [
    "def compute_lcm(x, y):\n",
    "    # choose the greater number\n",
    "    if x > y:\n",
    "        greater = x\n",
    "    else:\n",
    "        greater = y\n",
    "\n",
    "    while(True):\n",
    "        if((greater % x == 0) and (greater % y == 0)):\n",
    "            lcm = greater\n",
    "            break\n",
    "        greater += 1\n",
    "\n",
    "    return lcm\n",
    "\n",
    "num1 = 54\n",
    "num2 = 24\n",
    "\n",
    "print(\"The L.C.M. of {} and {} is\".format(num1,num2), compute_lcm(num1, num2))"
   ]
  },
  {
   "cell_type": "markdown",
   "id": "bfbf1b19",
   "metadata": {},
   "source": [
    "### Python Program to find the sum of series: 1 + 1/2 + 1/3 + ….. + 1/N."
   ]
  },
  {
   "cell_type": "code",
   "execution_count": 63,
   "id": "fcf79dae",
   "metadata": {},
   "outputs": [
    {
     "name": "stdout",
     "output_type": "stream",
     "text": [
      "Enter Nth value: 10\n",
      "Sum of the series is:  2.93\n"
     ]
    }
   ],
   "source": [
    "N = int(input(\"Enter Nth value: \"))\n",
    "sum = 0.0\n",
    "for i in range(1, N+1):\n",
    "    sum = sum+1/i\n",
    "print(\"Sum of the series is: \",round(sum,2))\n"
   ]
  },
  {
   "cell_type": "markdown",
   "id": "d5960bb3",
   "metadata": {},
   "source": [
    "### List Comprehensions\n",
    "### i. Write a Python program to get the squares of numbers present in the range of (1-10)\n",
    "### output squares = [0, 1, 4, 9, 16, 25, 36, 49, 64, 81, 100]\n"
   ]
  },
  {
   "cell_type": "code",
   "execution_count": 66,
   "id": "6bfdbd44",
   "metadata": {},
   "outputs": [
    {
     "name": "stdout",
     "output_type": "stream",
     "text": [
      "[1, 4, 9, 16, 25, 36, 49, 64, 81, 100]\n"
     ]
    }
   ],
   "source": [
    "result = []\n",
    "for i in range(1,10+1):\n",
    "    square = i**2\n",
    "    result.append(square)\n",
    "print(result)\n",
    "    "
   ]
  },
  {
   "cell_type": "markdown",
   "id": "fff31d02",
   "metadata": {},
   "source": [
    "### ii. For the same question get the desired output using List Comprehension"
   ]
  },
  {
   "cell_type": "code",
   "execution_count": 71,
   "id": "53fe4b2c",
   "metadata": {},
   "outputs": [
    {
     "name": "stdout",
     "output_type": "stream",
     "text": [
      "[1, 4, 9, 16, 25, 36, 49, 64, 81, 100]\n"
     ]
    }
   ],
   "source": [
    "list2 = [1,2,3,4,5,6,7,8,9,10]\n",
    "\n",
    "result = list(x**2 for x in list2)\n",
    "print(result)"
   ]
  },
  {
   "cell_type": "markdown",
   "id": "61c8ff2f",
   "metadata": {},
   "source": [
    "### Convert a list of integers to a list of strings, using List comprehension"
   ]
  },
  {
   "cell_type": "code",
   "execution_count": 72,
   "id": "55eb0599",
   "metadata": {},
   "outputs": [
    {
     "name": "stdout",
     "output_type": "stream",
     "text": [
      "['1', '2', '3', '4', '5', '6', '7', '8', '9', '10']\n"
     ]
    }
   ],
   "source": [
    "list2 = [1,2,3,4,5,6,7,8,9,10]\n",
    "\n",
    "strings = list(str(x) for x in list2)\n",
    "\n",
    "print(strings)"
   ]
  },
  {
   "cell_type": "markdown",
   "id": "bcebd548",
   "metadata": {},
   "source": [
    "### Create tuples from two lists using List Comprehensions"
   ]
  },
  {
   "cell_type": "code",
   "execution_count": 75,
   "id": "e3fde7bb",
   "metadata": {},
   "outputs": [
    {
     "name": "stdout",
     "output_type": "stream",
     "text": [
      "[('1', 'one'), ('2', 'two')]\n"
     ]
    }
   ],
   "source": [
    "ls1 = ['1','2']\n",
    "ls2 = ['one', 'two']\n",
    "\n",
    "result_tuple = [(x,y) for x,y in zip(ls1,ls2)]\n",
    "print(result_tuple)"
   ]
  },
  {
   "cell_type": "markdown",
   "id": "393e0b0b",
   "metadata": {},
   "source": [
    "### Get Index of Each Element of List using enumerate in List Comprehension"
   ]
  },
  {
   "cell_type": "code",
   "execution_count": 76,
   "id": "ecf6b4c0",
   "metadata": {},
   "outputs": [
    {
     "name": "stdout",
     "output_type": "stream",
     "text": [
      "[(0, 'apple'), (1, 'banana'), (2, 'orange'), (3, 'grape')]\n"
     ]
    }
   ],
   "source": [
    "ls3 = ['apple', 'banana', 'orange', 'grape']\n",
    "\n",
    "index_element_pairs = [(index, element) for index, element in enumerate(ls3)]\n",
    "\n",
    "\n",
    "print(index_element_pairs)"
   ]
  },
  {
   "cell_type": "code",
   "execution_count": null,
   "id": "f872dd05",
   "metadata": {},
   "outputs": [],
   "source": []
  }
 ],
 "metadata": {
  "kernelspec": {
   "display_name": "Python 3 (ipykernel)",
   "language": "python",
   "name": "python3"
  },
  "language_info": {
   "codemirror_mode": {
    "name": "ipython",
    "version": 3
   },
   "file_extension": ".py",
   "mimetype": "text/x-python",
   "name": "python",
   "nbconvert_exporter": "python",
   "pygments_lexer": "ipython3",
   "version": "3.11.5"
  }
 },
 "nbformat": 4,
 "nbformat_minor": 5
}
